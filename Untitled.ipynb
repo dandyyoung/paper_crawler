{
 "cells": [
  {
   "cell_type": "code",
   "execution_count": 2,
   "id": "48c081f8-f7df-4d39-a2b3-3a283eab46ef",
   "metadata": {},
   "outputs": [],
   "source": [
    "from bs4 import BeautifulSoup as bs\n",
    "import urllib.request\n",
    "import re\n",
    "from selenium import webdriver\n",
    "import pandas as pd\n",
    "import datetime\n",
    "import os\n",
    "import getpass"
   ]
  },
  {
   "cell_type": "code",
   "execution_count": null,
   "id": "1a76f9a7-6934-4c5c-a5c9-532ade2e9aba",
   "metadata": {},
   "outputs": [],
   "source": []
  }
 ],
 "metadata": {
  "kernelspec": {
   "display_name": "Python 3",
   "language": "python",
   "name": "python3"
  },
  "language_info": {
   "codemirror_mode": {
    "name": "ipython",
    "version": 3
   },
   "file_extension": ".py",
   "mimetype": "text/x-python",
   "name": "python",
   "nbconvert_exporter": "python",
   "pygments_lexer": "ipython3",
   "version": "3.8.5"
  }
 },
 "nbformat": 4,
 "nbformat_minor": 5
}
